{
 "cells": [
  {
   "cell_type": "markdown",
   "metadata": {},
   "source": [
    "Import packages:"
   ]
  },
  {
   "cell_type": "code",
   "execution_count": 1,
   "metadata": {},
   "outputs": [],
   "source": [
    "import numpy as np\n",
    "import pandas as pd\n",
    "import re"
   ]
  },
  {
   "cell_type": "markdown",
   "metadata": {},
   "source": [
    "Read in the data:"
   ]
  },
  {
   "cell_type": "code",
   "execution_count": 2,
   "metadata": {},
   "outputs": [],
   "source": [
    "# read the data\n",
    "datapath = \"data/university_data/\"\n",
    "\n",
    "cwurData = pd.read_csv(datapath + \"/cwurData.csv\", header=0)\n",
    "cwurData = cwurData.rename(columns={'institution': 'university_name'})\n",
    "\n",
    "shanghaiData = pd.read_csv(datapath + \"/shanghaiData.csv\", header=0)\n",
    "\n",
    "timesData = pd.read_csv(datapath + \"/timesData.csv\", header=0)"
   ]
  },
  {
   "cell_type": "markdown",
   "metadata": {},
   "source": [
    "In the world_rank columns are also non-integer characters. We get rid of them to cast the column to int64:"
   ]
  },
  {
   "cell_type": "code",
   "execution_count": 3,
   "metadata": {},
   "outputs": [],
   "source": [
    "#timesData[timesData.world_rank.str.contains('[^0-9]' ,regex = True)]['world_rank'].unique()\n",
    "\n",
    "#replacing for example '201-250' with mean(201,250)\n",
    "rangeRanks = timesData[timesData.world_rank.str.contains('[0-9]-[0-9]' ,regex = True)]['world_rank'].unique()\n",
    "rangeRanksToAvg = {}\n",
    "for range in rangeRanks:\n",
    "    parts = range.split('-')\n",
    "    avg = int(np.mean([int(parts[0]), int(parts[1])]))\n",
    "    rangeRanksToAvg[range] = str(avg)\n",
    "timesData = timesData.replace({\"world_rank\": rangeRanksToAvg})\n",
    "\n",
    "rangeRanks = shanghaiData[shanghaiData.world_rank.str.contains('[0-9]-[0-9]' ,regex = True)]['world_rank'].unique()\n",
    "rangeRanksToAvg = {}\n",
    "for range in rangeRanks:\n",
    "    parts = range.split('-')\n",
    "    avg = int(np.mean([int(parts[0]), int(parts[1])]))\n",
    "    rangeRanksToAvg[range] = str(avg)\n",
    "shanghaiData = shanghaiData.replace({\"world_rank\": rangeRanksToAvg})\n",
    "\n",
    "#replacing for example '=127' with 127\n",
    "timesData['world_rank'] = timesData['world_rank'].apply(lambda x : re.sub(\"[^0-9]\", \"\", str(x)))\n",
    "\n",
    "timesData = timesData.astype({'world_rank': 'int64'})\n",
    "shanghaiData = shanghaiData.astype({'world_rank': 'int64'})"
   ]
  },
  {
   "cell_type": "markdown",
   "metadata": {},
   "source": [
    "Same countries are referred differently across the datasets. There are also some typos in these columns. So we try to standardize them:"
   ]
  },
  {
   "cell_type": "code",
   "execution_count": 4,
   "metadata": {
    "scrolled": true
   },
   "outputs": [],
   "source": [
    "#timesCountries = timesData['country'].unique()\n",
    "#cwurCountries = cwurData['country'].unique()\n",
    "\n",
    "#timesCountriesFiltered = [x for x in timesCountries if x not in cwurCountries]\n",
    "#cwurCountriesFiltered = [x for x in cwurCountries if x not in timesCountries]\n",
    "\n",
    "#getting the same country names\n",
    "countriesDict = {'United States of America':'USA',\n",
    "                 'Unisted States of America':'USA',\n",
    "                 'Unted Kingdom':'United Kingdom',\n",
    "                 'Republic of Ireland':'Ireland',\n",
    "                 'Russian Federation':'Russia',\n",
    "                 'Slovakia':'Slovak Republic'}\n",
    "\n",
    "timesData = timesData.replace({\"country\": countriesDict})\n",
    "\n",
    "timesCountries = timesData['country'].unique()\n",
    "cwurCountries = cwurData['country'].unique()\n",
    "\n",
    "timesCountriesFiltered = [x for x in timesCountries if x not in cwurCountries]\n",
    "cwurCountriesFiltered = [x for x in cwurCountries if x not in timesCountries]\n",
    "\n",
    "#timesCountriesFiltered\n",
    "#cwurCountriesFiltered"
   ]
  },
  {
   "cell_type": "markdown",
   "metadata": {},
   "source": [
    "Same universities are referred differently across the datasets. So we try to standardize them:"
   ]
  },
  {
   "cell_type": "code",
   "execution_count": 5,
   "metadata": {},
   "outputs": [],
   "source": [
    "#timesUnis = timesData['university_name'].unique()\n",
    "#cwurUnis = cwurData['university_name'].unique()\n",
    "\n",
    "#timesUnisFiltered = [x for x in timesUnis if x not in cwurUnis]\n",
    "#cwurUnisFiltered = [x for x in cwurUnis if x not in timesUnis]\n",
    "\n",
    "#I tried to get the same university_names, but its simply to tedious...\n",
    "unisDict = {'ETH Zurich – Swiss Federal Institute of Technology Zurich':'Swiss Federal Institute of Technology in Zurich',\n",
    "            'University of Michigan':'University of Michigan, Ann Arbor',\n",
    "            'University of Washington':'University of Washington - Seattle',\n",
    "            'University of Illinois at Urbana-Champaign':'University of Illinois at Urbana–Champaign',\n",
    "            'Washington University in St Louis':'Washington University in St. Louis',\n",
    "            'University of Wisconsin':'University of Wisconsin–Madison',\n",
    "            'University of Minnesota':'University of Minnesota, Twin Cities',\n",
    "            'Massachusetts Institute of Technology (MIT)':'Massachusetts Institute of Technology',\n",
    "            'University of Wisconsin - Madison':'University of Wisconsin–Madison',\n",
    "            'The University of Tokyo':'University of Tokyo',\n",
    "            'University of Michigan - Ann Arbor':'University of Michigan, Ann Arbor',\n",
    "            'The Imperial College of Science, Technology and Medicine':'Imperial College London',\n",
    "            'Swiss Federal Institute of Technology Zurich':'Swiss Federal Institute of Technology in Zurich',\n",
    "            'University of Colorado at Boulder':'University of Colorado Boulder',\n",
    "            'The University of Texas at Austin':'University of Texas at Austin',\n",
    "            'The University of Texas Southwestern Medical Center at Dallas':'University of Texas Southwestern Medical Center',\n",
    "            'The University of Edinburgh':'University of Edinburgh'}\n",
    "\n",
    "timesData = timesData.replace({\"university_name\": unisDict})\n",
    "shanghaiData = shanghaiData.replace({\"university_name\": unisDict})\n",
    "\n",
    "timesUnis = timesData['university_name'].unique()\n",
    "shanghaiUnis = shanghaiData['university_name'].unique()\n",
    "cwurUnis = cwurData['university_name'].unique()\n",
    "\n",
    "timesUnisFiltered = [x for x in timesUnis if x not in cwurUnis]\n",
    "shanghaiUnisFiltered = [x for x in shanghaiUnis if x not in cwurUnis]\n",
    "cwurUnisFiltered = [x for x in cwurUnis if x not in shanghaiUnis]\n",
    "#cwurUnisFiltered = [x for x in cwurUnis if x not in timesUnis]\n",
    "\n",
    "#timesUnisFiltered\n",
    "#shanghaiUnisFiltered\n",
    "#cwurUnisFiltered"
   ]
  },
  {
   "cell_type": "markdown",
   "metadata": {},
   "source": [
    "The shanghai Dataset does not contain country information. We add it by joining it with the other dataframes:"
   ]
  },
  {
   "cell_type": "code",
   "execution_count": 6,
   "metadata": {},
   "outputs": [],
   "source": [
    "#get countries of universities for shanghaiData\n",
    "uniCountryDf = pd.concat([timesData[['university_name', 'country']], cwurData[['university_name', 'country']]]).drop_duplicates()\n",
    "shanghaiData = pd.merge(shanghaiData, uniCountryDf, how='left', on='university_name')"
   ]
  }
 ],
 "metadata": {
  "kernelspec": {
   "display_name": "Python 3",
   "language": "python",
   "name": "python3"
  },
  "language_info": {
   "codemirror_mode": {
    "name": "ipython",
    "version": 3
   },
   "file_extension": ".py",
   "mimetype": "text/x-python",
   "name": "python",
   "nbconvert_exporter": "python",
   "pygments_lexer": "ipython3",
   "version": "3.7.3"
  }
 },
 "nbformat": 4,
 "nbformat_minor": 2
}
